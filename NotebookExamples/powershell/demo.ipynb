﻿{
    "metadata": {
        "kernelspec": {
            "display_name": ".NET (PowerShell)",
            "language": "PowerShell",
            "name": ".net-powershell"
        },
        "language_info": {
            "file_extension": ".ps1",
            "mimetype": "text/x-powershell",
            "name": "PowerShell",
            "pygments_lexer": "powershell",
            "version": "7.0"
        }
    },
    "nbformat": 4,
    "nbformat_minor": 4,
    "cells": [
        {"cell_type":"markdown","metadata":{},"source":["# Chapter 1"]},{"cell_type":"markdown","metadata":{},"source":[""]},{
    "cell_type":  "code",
    "source":  [
                   "Get-Process | Select-Object -first 5\r\n"
               ],
    "metadata":  {
                     "azdata_cell_guid":  "7f50e6f3-529c-47c7-8956-17be496e88fa"
                 },
    "outputs":  [
                    {
                        "name":  "stdout",
                        "output_type":  "stream",
                        "text":  "\r\nHandles  NPM(K)    PM(K)      WS(K)     CPU(s)     Id  SI ProcessName                                                   \r\n-------  ------    -----      -----     ------     --  -- -----------                                                   \r\n    337      21    11288      23248       0.16  11828   1 ApplicationFrameHost                                          \r\n    202      15     7320      12088      44.86   5284   0 audiodg                                                       \r\n    136      11     1984       7804       0.02   1076   1 chrome                                                        \r\n    581      51    33460      49632      50.50   1596   1 chrome                                                        \r\n    245      18   141364     161836      14.63   2816   1 chrome                                                        \r\n\r\n\r\n"
                    }
                ]
},{"cell_type":"markdown","metadata":{},"source":["\r\n"]}
    ]
}
