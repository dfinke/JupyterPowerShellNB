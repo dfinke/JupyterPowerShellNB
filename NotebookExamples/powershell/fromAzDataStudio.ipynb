{
    "metadata": {
        "kernelspec": {
            "name": "powershell",
            "display_name": "PowerShell"
        },
        "language_info": {
            "name": "powershell",
            "codemirror_mode": "shell",
            "mimetype": "text/x-sh",
            "file_extension": ".ps1"
        }
    },
    "nbformat_minor": 2,
    "nbformat": 4,
    "cells": [
        {"cell_type":"markdown","metadata":{},"source":["# Chapter 1"]},{"cell_type":"markdown","metadata":{},"source":[""]},{
  "cell_type": "code",
  "source": [
    "1..5 | % {\r\n    $_ * 2\r\n}\r\n"
  ],
  "metadata": {
    "azdata_cell_guid": "c424811e-b176-41bb-9fd6-bae587a71674"
  },
  "outputs": [
    {
      "output_type": "stream",
      "text": "2\r\n4\r\n6\r\n8\r\n10\r\n",
      "name": "stdout"
    }
  ]
},{"cell_type":"markdown","metadata":{},"source":["\r\n"]}
    ]
}
