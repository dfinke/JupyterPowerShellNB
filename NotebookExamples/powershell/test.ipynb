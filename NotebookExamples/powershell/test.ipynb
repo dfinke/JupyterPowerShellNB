{
    "metadata": {
        "kernelspec": {
            "display_name": ".NET (PowerShell)",
            "language": "PowerShell",
            "name": ".net-powershell"
        },
        "language_info": {
            "file_extension": ".ps1",
            "mimetype": "text/x-powershell",
            "name": "PowerShell",
            "pygments_lexer": "powershell",
            "version": "7.0"
        }
    },
    "nbformat": 4,
    "nbformat_minor": 4,
    "cells": [
        {"cell_type":"markdown","metadata":{},"source":["# Chapter 1"]},{"cell_type":"markdown","metadata":{},"source":[""]},{
  "cell_type": "code",
  "source": [
    "1..5 | % {\r\n    $_ * 3\r\n}\r\n"
  ],
  "metadata": {},
  "outputs": [
    {
      "text": "3\r\n6\r\n9\r\n12\r\n15\r\n",
      "output_type": "stream",
      "name": "stdout"
    }
  ]
}
    ]
}
